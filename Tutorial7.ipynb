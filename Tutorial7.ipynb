{
 "cells": [
  {
   "attachments": {},
   "cell_type": "markdown",
   "metadata": {},
   "source": [
    "LINEAR REGRESSION"
   ]
  },
  {
   "cell_type": "code",
   "execution_count": 1,
   "metadata": {},
   "outputs": [],
   "source": [
    "import torch \n",
    "import torch.nn as nn\n",
    "import numpy as np\n",
    "from sklearn import datasets\n",
    "import matplotlib.pyplot as plt"
   ]
  },
  {
   "attachments": {},
   "cell_type": "markdown",
   "metadata": {},
   "source": [
    "Preparing The Data"
   ]
  },
  {
   "cell_type": "code",
   "execution_count": 3,
   "metadata": {},
   "outputs": [
    {
     "name": "stdout",
     "output_type": "stream",
     "text": [
      "torch.Size([100])\n",
      "torch.Size([100, 1])\n"
     ]
    }
   ],
   "source": [
    "X_numpy,y_numpy = datasets.make_regression(n_samples=100,n_features=1,noise=20,random_state = 1)\n",
    "\n",
    "#converting them into tensors\n",
    "X = torch.from_numpy(X_numpy.astype(np.float32)) # before converting into tensors convert numpy array's datatype into float32 from double\n",
    "y = torch.from_numpy(y_numpy.astype(np.float32))\n",
    "print(y.shape)\n",
    "\n",
    "#Reshape y (from 1 row to multiple rows where each row contains a value)\n",
    "y = y.view(y.shape[0],1)\n",
    "print(y.shape)\n",
    "\n",
    "n_samples,n_features = X.shape"
   ]
  },
  {
   "attachments": {},
   "cell_type": "markdown",
   "metadata": {},
   "source": [
    "Model"
   ]
  },
  {
   "cell_type": "code",
   "execution_count": 5,
   "metadata": {},
   "outputs": [],
   "source": [
    "input_size = n_features\n",
    "output_size = 1\n",
    "model = nn.Linear(input_size,output_size)"
   ]
  },
  {
   "attachments": {},
   "cell_type": "markdown",
   "metadata": {},
   "source": [
    "Loss and Optimizer"
   ]
  },
  {
   "cell_type": "code",
   "execution_count": 6,
   "metadata": {},
   "outputs": [],
   "source": [
    "learning_rate = 0.01\n",
    "criterion = nn.MSELoss()\n",
    "optimizer = torch.optim.SGD(model.parameters(),lr=learning_rate)"
   ]
  },
  {
   "attachments": {},
   "cell_type": "markdown",
   "metadata": {},
   "source": [
    "Training Loop"
   ]
  },
  {
   "cell_type": "code",
   "execution_count": 7,
   "metadata": {},
   "outputs": [
    {
     "name": "stdout",
     "output_type": "stream",
     "text": [
      "epoch: 10, loss=4413.4302\n",
      "epoch: 20, loss=3293.0884\n",
      "epoch: 30, loss=2482.1875\n",
      "epoch: 40, loss=1894.6469\n",
      "epoch: 50, loss=1468.5322\n",
      "epoch: 60, loss=1159.2161\n",
      "epoch: 70, loss=934.4993\n",
      "epoch: 80, loss=771.1194\n",
      "epoch: 90, loss=652.2521\n",
      "epoch: 100, loss=565.7146\n"
     ]
    }
   ],
   "source": [
    "num_epochs = 100\n",
    "for epoch in range(num_epochs):\n",
    "    \n",
    "    #forward pass and loss\n",
    "    y_hat = model(X)\n",
    "    loss = criterion(y_hat,y)\n",
    "    \n",
    "    #backward pass\n",
    "    loss.backward()\n",
    "    \n",
    "    #update weights\n",
    "    optimizer.step()\n",
    "    \n",
    "    #empty the gradients\n",
    "    optimizer.zero_grad()\n",
    "    \n",
    "    if(epoch+1)%10==0:\n",
    "        print(f'epoch: {epoch+1}, loss={loss.item():.4f}')"
   ]
  },
  {
   "attachments": {},
   "cell_type": "markdown",
   "metadata": {},
   "source": [
    "Plotting the actual and predicted values"
   ]
  },
  {
   "cell_type": "code",
   "execution_count": 9,
   "metadata": {},
   "outputs": [
    {
     "data": {
      "image/png": "[encoded data removed]",
      "text/plain": [
       "<Figure size 640x480 with 1 Axes>"
      ]
     },
     "metadata": {},
     "output_type": "display_data"
    }
   ],
   "source": [
    "predicted = model(X).detach()  #because we want to prevent the model(x) operation from being tracked by computational graph \n",
    "predicted = predicted.numpy() #converting from tensor to numpy\n",
    "\n",
    "#plotting the groud truths as red dots\n",
    "plt.plot(X_numpy, y_numpy,'ro')\n",
    "\n",
    "#plotting the predicted values as blue dots which form a blue line\n",
    "plt.plot(X_numpy,predicted,'bo')\n",
    "plt.plot(X_numpy,predicted,'b')\n",
    "\n",
    "plt.show()\n"
   ]
  },
  {
   "cell_type": "code",
   "execution_count": null,
   "metadata": {},
   "outputs": [],
   "source": []
  }
 ],
 "metadata": {
  "kernelspec": {
   "display_name": "cv",
   "language": "python",
   "name": "python3"
  },
  "language_info": {
   "codemirror_mode": {
    "name": "ipython",
    "version": 3
   },
   "file_extension": ".py",
   "mimetype": "text/x-python",
   "name": "python",
   "nbconvert_exporter": "python",
   "pygments_lexer": "ipython3",
   "version": "3.9.15"
  },
  "orig_nbformat": 4
 },
 "nbformat": 4,
 "nbformat_minor": 2
}
