{
 "cells": [
  {
   "attachments": {},
   "cell_type": "markdown",
   "metadata": {},
   "source": [
    "TUTORIAL 4"
   ]
  },
  {
   "attachments": {},
   "cell_type": "markdown",
   "metadata": {},
   "source": [
    "BACKPROPAGATION"
   ]
  },
  {
   "cell_type": "code",
   "execution_count": 1,
   "metadata": {},
   "outputs": [
    {
     "name": "stdout",
     "output_type": "stream",
     "text": [
      "tensor(1., grad_fn=<PowBackward0>)\n",
      "tensor(-2.)\n"
     ]
    }
   ],
   "source": [
    "import torch\n",
    "x = torch.tensor(1.0)  #input\n",
    "y = torch.tensor(2.0)  #ground truth\n",
    "\n",
    "w = torch.tensor(1.0,requires_grad=True)\n",
    "\n",
    "#forward pass and compute the loss\n",
    "y_hat = w*x #predicted output\n",
    "loss = (y_hat -y)**2\n",
    "\n",
    "print(loss)\n",
    "\n",
    "#backward pass\n",
    "loss.backward() #pytorch calculates local gradients automatically for us and also uses chain rule automatically for us\n",
    "print(w.grad)\n",
    "\n",
    "#next update weights\n",
    "#do next forward and backward pass for couple of iterations"
   ]
  },
  {
   "attachments": {},
   "cell_type": "markdown",
   "metadata": {},
   "source": [
    "TUTORIAL 5"
   ]
  },
  {
   "attachments": {},
   "cell_type": "markdown",
   "metadata": {},
   "source": [
    "1.Prediction: Manually \n",
    "2.Gradients Computation: Manually\n",
    "3.Loss Computation: Manually\n",
    "4.Parameters Updates: Manually"
   ]
  },
  {
   "cell_type": "code",
   "execution_count": 3,
   "metadata": {},
   "outputs": [
    {
     "name": "stdout",
     "output_type": "stream",
     "text": [
      "Prediction before training on unseen test data: f(10) = 0.000\n",
      "epoch 1: w = 1.200, loss = 30.00000000\n",
      "epoch 2: w = 1.680, loss = 4.79999924\n",
      "epoch 3: w = 1.872, loss = 0.76800019\n",
      "epoch 4: w = 1.949, loss = 0.12288000\n",
      "epoch 5: w = 1.980, loss = 0.01966083\n",
      "epoch 6: w = 1.992, loss = 0.00314570\n",
      "epoch 7: w = 1.997, loss = 0.00050332\n",
      "epoch 8: w = 1.999, loss = 0.00008053\n",
      "epoch 9: w = 1.999, loss = 0.00001288\n",
      "epoch 10: w = 2.000, loss = 0.00000206\n",
      "epoch 11: w = 2.000, loss = 0.00000033\n",
      "epoch 12: w = 2.000, loss = 0.00000005\n",
      "epoch 13: w = 2.000, loss = 0.00000001\n",
      "epoch 14: w = 2.000, loss = 0.00000000\n",
      "epoch 15: w = 2.000, loss = 0.00000000\n",
      "Prediction after training on unseen test data: f(10) = 20.000\n"
     ]
    }
   ],
   "source": [
    "#Linear Regression\n",
    "import numpy as np\n",
    "\n",
    "# f = w*x\n",
    "# let's say our original function is: f = 2*x\n",
    "\n",
    "X = np.array([1,2,3,4],dtype=np.float32)\n",
    "Y = np.array([2,4,6,8],dtype=np.float32)  #ground truth, we took it as 2*X as our original function\n",
    "\n",
    "w = 0.0 #initial value\n",
    "\n",
    "# model prediction\n",
    "def forward(x):\n",
    "    return w*x\n",
    "\n",
    "#loss = MSE\n",
    "def loss(y,y_hat):\n",
    "    return ((y_hat-y)**2).mean()\n",
    "\n",
    "#gradient of loss w.r.t. our parameters here w\n",
    "#MSE = 1/N * (w*x-y)**2\n",
    "#dloss/dw = 1/N * 2x * (wx-y)\n",
    "\n",
    "def gradient(x,y,y_hat):\n",
    "    return np.dot(2*x,y_hat-y).mean()\n",
    "\n",
    "#Ground Truth is 20\n",
    "print(f'Prediction before training on unseen test data: f(10) = {forward(10):.3f}')\n",
    "\n",
    "#Training\n",
    "learning_rate = 0.01\n",
    "epochs = 15\n",
    "\n",
    "for epoch in range(epochs):\n",
    "    #prediction = forward pass\n",
    "    y_hat = forward(X)\n",
    "    \n",
    "    #loss\n",
    "    l = loss(Y,y_hat)\n",
    "    \n",
    "    #gradients\n",
    "    dw = gradient(X,Y,y_hat)\n",
    "    \n",
    "    #update weights\n",
    "    w = w - learning_rate*dw\n",
    "    \n",
    "    print(f'epoch {epoch+1}: w = {w:.3f}, loss = {l:.8f}')\n",
    "\n",
    "print(f'Prediction after training on unseen test data: f(10) = {forward(10):.3f}')\n",
    "\n",
    " \n",
    "\n",
    "    \n"
   ]
  },
  {
   "attachments": {},
   "cell_type": "markdown",
   "metadata": {},
   "source": [
    "1.Prediction: Manually \n",
    "2.Gradients Computation: Using Autograd Package of Pytorch\n",
    "3.Loss Computation: Manually\n",
    "4.Parameters Updates: Manually"
   ]
  },
  {
   "cell_type": "code",
   "execution_count": 16,
   "metadata": {},
   "outputs": [
    {
     "name": "stdout",
     "output_type": "stream",
     "text": [
      "Prediction before training on unseen test data: f(10) = 0.000\n"
     ]
    },
    {
     "ename": "AttributeError",
     "evalue": "'NoneType' object has no attribute 'zero_'",
     "output_type": "error",
     "traceback": [
      "\u001b[1;31m---------------------------------------------------------------------------\u001b[0m",
      "\u001b[1;31mAttributeError\u001b[0m                            Traceback (most recent call last)",
      "\u001b[1;32m~\\AppData\\Local\\Temp\\ipykernel_25044\\3324439300.py\u001b[0m in \u001b[0;36m<module>\u001b[1;34m\u001b[0m\n\u001b[0;32m     38\u001b[0m \u001b[1;33m\u001b[0m\u001b[0m\n\u001b[0;32m     39\u001b[0m     \u001b[1;31m#empty the gradients, reason mentioned in tutorial 3\u001b[0m\u001b[1;33m\u001b[0m\u001b[1;33m\u001b[0m\u001b[0m\n\u001b[1;32m---> 40\u001b[1;33m     \u001b[0mw\u001b[0m\u001b[1;33m.\u001b[0m\u001b[0mgrad\u001b[0m\u001b[1;33m.\u001b[0m\u001b[0mzero_\u001b[0m\u001b[1;33m(\u001b[0m\u001b[1;33m)\u001b[0m\u001b[1;33m\u001b[0m\u001b[1;33m\u001b[0m\u001b[0m\n\u001b[0m\u001b[0;32m     41\u001b[0m \u001b[1;33m\u001b[0m\u001b[0m\n\u001b[0;32m     42\u001b[0m     \u001b[1;32mif\u001b[0m\u001b[1;33m(\u001b[0m\u001b[0mepoch\u001b[0m\u001b[1;33m%\u001b[0m\u001b[1;36m10\u001b[0m\u001b[1;33m)\u001b[0m\u001b[1;33m==\u001b[0m\u001b[1;36m0\u001b[0m\u001b[1;33m:\u001b[0m\u001b[1;33m\u001b[0m\u001b[1;33m\u001b[0m\u001b[0m\n",
      "\u001b[1;31mAttributeError\u001b[0m: 'NoneType' object has no attribute 'zero_'"
     ]
    }
   ],
   "source": [
    "import torch\n",
    "\n",
    "X = torch.tensor([1,2,3,4],dtype = torch.float32)\n",
    "Y = torch.tensor([2,4,6,8],dtype = torch.float32)\n",
    "\n",
    "w = torch.tensor(0.0,dtype = torch.float32, requires_grad=True)\n",
    "\n",
    "\n",
    "# model prediction\n",
    "def forward(x):\n",
    "    return w*x\n",
    "\n",
    "#loss = MSE\n",
    "def loss(y,y_hat):\n",
    "    return ((y_hat-y)**2).mean()\n",
    "\n",
    "#Ground Truth is 20\n",
    "print(f'Prediction before training on unseen test data: f(10) = {forward(10):.3f}')\n",
    "\n",
    "#Training\n",
    "learning_rate = 0.01\n",
    "epochs = 80\n",
    "\n",
    "for epoch in range(epochs):\n",
    "    #prediction = forward pass\n",
    "    y_hat = forward(X)\n",
    "    \n",
    "    #loss\n",
    "    l = loss(Y,y_hat)\n",
    "    \n",
    "    #gradients = backward pass\n",
    "    l.backward() #dl/dw\n",
    "    \n",
    "    #update weights & this operation should not be part of gradient tracking or computational graph\n",
    "    with torch.no_grad():\n",
    "        w = w - learning_rate*w.grad\n",
    "        #w -= learning_rate * w.grad\n",
    "    \n",
    "    #empty the gradients, reason mentioned in tutorial 3\n",
    "    w.grad.zero_()\n",
    "    \n",
    "    if(epoch%10)==0:\n",
    "        print(f'epoch {epoch+1}: w = {w:.3f}, loss = {l:.8f}')\n",
    "\n",
    "print(f'Prediction after training on unseen test data: f(10) = {forward(10):.3f}')\n",
    "\n"
   ]
  },
  {
   "attachments": {},
   "cell_type": "markdown",
   "metadata": {},
   "source": [
    "The error we're encountering is because we're reassigning the w variable inside the with torch.no_grad() block. When we use the assignment w = w - learning_rate*w.grad, it creates a new tensor and breaks the gradient tracking.\n",
    "\n",
    "To fix the issue, you should use the in-place subtraction operation -= to update the w tensor without breaking the gradient tracking."
   ]
  },
  {
   "cell_type": "code",
   "execution_count": 17,
   "metadata": {},
   "outputs": [
    {
     "name": "stdout",
     "output_type": "stream",
     "text": [
      "Prediction before training on unseen test data: f(10) = 0.000\n",
      "epoch 1: w = 0.300, loss = 30.00000000\n",
      "epoch 11: w = 1.665, loss = 1.16278565\n",
      "epoch 21: w = 1.934, loss = 0.04506890\n",
      "epoch 31: w = 1.987, loss = 0.00174685\n",
      "epoch 41: w = 1.997, loss = 0.00006770\n",
      "epoch 51: w = 1.999, loss = 0.00000262\n",
      "epoch 61: w = 2.000, loss = 0.00000010\n",
      "epoch 71: w = 2.000, loss = 0.00000000\n",
      "Prediction after training on unseen test data: f(10) = 20.000\n"
     ]
    }
   ],
   "source": [
    "import torch\n",
    "\n",
    "X = torch.tensor([1,2,3,4],dtype = torch.float32)\n",
    "Y = torch.tensor([2,4,6,8],dtype = torch.float32)\n",
    "\n",
    "w = torch.tensor(0.0,dtype = torch.float32, requires_grad=True)\n",
    "\n",
    "\n",
    "# model prediction\n",
    "def forward(x):\n",
    "    return w*x\n",
    "\n",
    "#loss = MSE\n",
    "def loss(y,y_hat):\n",
    "    return ((y_hat-y)**2).mean()\n",
    "\n",
    "#Ground Truth is 20\n",
    "print(f'Prediction before training on unseen test data: f(10) = {forward(10):.3f}')\n",
    "\n",
    "#Training\n",
    "learning_rate = 0.01\n",
    "epochs = 80\n",
    "\n",
    "for epoch in range(epochs):\n",
    "    #prediction = forward pass\n",
    "    y_hat = forward(X)\n",
    "    \n",
    "    #loss\n",
    "    l = loss(Y,y_hat)\n",
    "    \n",
    "    #gradients = backward pass\n",
    "    l.backward() #dl/dw\n",
    "    \n",
    "    #update weights & this operation should not be part of gradient tracking or computational graph\n",
    "    with torch.no_grad():\n",
    "        #w = w - learning_rate*w.grad\n",
    "        w -= learning_rate * w.grad\n",
    "    \n",
    "    #empty the gradients, reason mentioned in tutorial 3\n",
    "    w.grad.zero_()\n",
    "    \n",
    "    if(epoch%10)==0:\n",
    "        print(f'epoch {epoch+1}: w = {w:.3f}, loss = {l:.8f}')\n",
    "\n",
    "print(f'Prediction after training on unseen test data: f(10) = {forward(10):.3f}')"
   ]
  },
  {
   "cell_type": "code",
   "execution_count": null,
   "metadata": {},
   "outputs": [],
   "source": []
  }
 ],
 "metadata": {
  "kernelspec": {
   "display_name": "cv",
   "language": "python",
   "name": "python3"
  },
  "language_info": {
   "codemirror_mode": {
    "name": "ipython",
    "version": 3
   },
   "file_extension": ".py",
   "mimetype": "text/x-python",
   "name": "python",
   "nbconvert_exporter": "python",
   "pygments_lexer": "ipython3",
   "version": "3.9.15"
  },
  "orig_nbformat": 4
 },
 "nbformat": 4,
 "nbformat_minor": 2
}
